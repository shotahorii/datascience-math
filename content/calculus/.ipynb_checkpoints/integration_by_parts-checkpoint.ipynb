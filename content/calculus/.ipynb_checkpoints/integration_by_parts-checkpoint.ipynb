{
 "cells": [
  {
   "cell_type": "markdown",
   "metadata": {},
   "source": [
    "# Integration by parts\n",
    "\n",
    "[Back to index](https://shotahorii.github.io/math-for-ds/)\n",
    "\n",
    "---\n",
    "\n",
    "## Table of contents\n",
    "1. Integration by parts\n",
    "2. Examples\n",
    "\n",
    "---"
   ]
  },
  {
   "cell_type": "markdown",
   "metadata": {},
   "source": [
    "## 1. Integration by parts\n",
    "\n",
    "**Indefinite integral**\n",
    "\n",
    "$\\int f'(x)g(x)dx = f(x)g(x) - \\int f(x)g'(x)dx$\n",
    "\n",
    "**Definite integral**\n",
    "\n",
    "$\\int_a^b f'(x)g(x)dx = [f(x)g(x)]_a^b - \\int_a^b f(x)g'(x)dx$\n",
    "\n",
    "**Proof**\n",
    "\n",
    "By product rule, \n",
    "\n",
    "$\\{f(x)g(x)\\}'=f'(x)g(x) + f(x)g'(x)$\n",
    "\n",
    "Hence,\n",
    "\n",
    "$f(x)g(x) = \\int \\{ f'(x)g(x) + f(x)g'(x) \\}dx $\n",
    "\n",
    "$= \\int f'(x)g(x) dx + \\int f(x)g'(x) dx$\n",
    "\n",
    "Hence,\n",
    "\n",
    "$\\int f'(x)g(x) dx = f(x)g(x) - \\int f(x)g'(x) dx$\n",
    "\n",
    "---"
   ]
  },
  {
   "cell_type": "markdown",
   "metadata": {},
   "source": [
    "## 2. Examples\n",
    "\n",
    "**Example 1**\n",
    "\n",
    "$\\int e^x x dx = \\int (e^x)'xdx$\n",
    "\n",
    "$= e^xx - \\int e^x (x)' dx $\n",
    "\n",
    "$= e^xx - e^x + C$\n",
    "\n",
    "**Example 2**\n",
    "\n",
    "$\\int xsinx dx = \\int x (-cosx)'dx$\n",
    "\n",
    "$= -xcosx - \\int (x)'(-cosx)dx$\n",
    "\n",
    "$= -xcosx + \\int cosxdx$\n",
    "\n",
    "$= -xcosx + sinx + C$"
   ]
  }
 ],
 "metadata": {
  "kernelspec": {
   "display_name": "Python 3",
   "language": "python",
   "name": "python3"
  },
  "language_info": {
   "codemirror_mode": {
    "name": "ipython",
    "version": 3
   },
   "file_extension": ".py",
   "mimetype": "text/x-python",
   "name": "python",
   "nbconvert_exporter": "python",
   "pygments_lexer": "ipython3",
   "version": "3.5.6"
  }
 },
 "nbformat": 4,
 "nbformat_minor": 2
}
