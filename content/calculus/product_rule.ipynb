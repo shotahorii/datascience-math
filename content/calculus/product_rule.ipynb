{
 "cells": [
  {
   "cell_type": "markdown",
   "metadata": {},
   "source": [
    "# Product Rule\n",
    "\n",
    "[Back to index](https://shotahorii.github.io/math-for-ds/)\n",
    "\n",
    "---\n",
    "\n",
    "## Table of contents\n",
    "1. **Single-variable functions**  \n",
    "1.1. First order  \n",
    "1.2. Second order  \n",
    "1.3. Higher derivatives\n",
    "2. **Multi-variable functions**  \n",
    "2.1. Multi-functions of a single variable  \n",
    "2.2. Multi-functions of multi-variables  \n",
    "2.3. Chain Rule and Jacobian\n",
    "\n",
    "---"
   ]
  },
  {
   "cell_type": "markdown",
   "metadata": {},
   "source": [
    "## 1. Single-variable functions\n",
    "### 1.1. First order\n",
    "\n",
    "Given $f(g(x))$, we can differentiate $f$ with respect to $x$ as below.\n",
    "\n",
    "$\\frac{df}{dx} = \\frac{df}{dg}\\frac{dg}{dx}$\n",
    "\n",
    "**Example**\n",
    "\n",
    "$y = (logx)^2$\n",
    "\n",
    "Let : $g(x) = logx, \\, f(g) = g^2$\n",
    "\n",
    "$y' = \\frac{df}{dg}\\frac{dg}{dx} = 2g\\cdot \\frac{1}{x} = \\frac{2logx}{x}$\n",
    "\n",
    "**Generalisation**\n",
    "\n",
    "Given : $f_1(f_2(f_3(...f_n(x))))$,\n",
    "\n",
    "$\\frac{df_1}{dx} = \\frac{df_1}{df_2}\\frac{df_2}{df_3}...\\frac{df_n}{dx}$\n",
    "\n",
    "---\n",
    "\n",
    "### 1.2. Second order\n",
    "\n",
    "Given : $f(g(x))$\n",
    "\n",
    "$\\frac{d^2f}{dx^2} = \\frac{d^2f}{dg^2}\\cdot(\\frac{dg}{dx})^2 + \\frac{df}{dg}\\cdot\\frac{d^2g}{dx^2}$\n",
    "\n",
    "Because\n",
    "\n",
    "$\\frac{d^2f}{dx^2} = \\frac{d}{dx}\\{\\frac{df}{dg}\\frac{dg}{dx}\\}$\n",
    "\n",
    "Note : $\\frac{d}{dx}\\{u(x)\\cdot v(x)\\} = \\frac{d}{dx}u(x)\\cdot v(x) + u(x)\\cdot \\frac{d}{dx}v(x)$\n",
    "\n",
    "$= \\frac{d}{dx}\\{\\frac{df}{dg}\\}\\cdot\\frac{dg}{dx} + \\frac{df}{dg}\\cdot \\frac{d}{dx}\\{\\frac{dg}{dx}\\}$\n",
    "\n",
    "$= \\frac{d^2f}{dg^2}\\cdot\\frac{dg}{dx} \\cdot\\frac{dg}{dx} + \\frac{df}{dg}\\cdot \\frac{d^2g}{dx^2}$\n",
    "\n",
    "$= \\frac{d^2f}{dg^2}\\cdot(\\frac{dg}{dx})^2 + \\frac{df}{dg}\\cdot\\frac{d^2g}{dx^2}$\n",
    "\n",
    "---\n",
    "\n",
    "### 1.3. Higher derivatives \n",
    "\n",
    "See [Wikipedia - Chain_rule#Higher_derivatives](https://en.wikipedia.org/wiki/Chain_rule#Higher_derivatives) and [Wikipedia - Faà di Bruno's formula](https://en.wikipedia.org/wiki/Fa%C3%A0_di_Bruno%27s_formula)\n",
    "\n",
    "---"
   ]
  }
 ],
 "metadata": {
  "kernelspec": {
   "display_name": "Python 3",
   "language": "python",
   "name": "python3"
  },
  "language_info": {
   "codemirror_mode": {
    "name": "ipython",
    "version": 3
   },
   "file_extension": ".py",
   "mimetype": "text/x-python",
   "name": "python",
   "nbconvert_exporter": "python",
   "pygments_lexer": "ipython3",
   "version": "3.5.6"
  }
 },
 "nbformat": 4,
 "nbformat_minor": 2
}
