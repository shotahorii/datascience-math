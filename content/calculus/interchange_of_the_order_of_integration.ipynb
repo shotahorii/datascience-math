{
 "cells": [
  {
   "cell_type": "markdown",
   "metadata": {},
   "source": [
    "# Interchange of the order of integration\n",
    "\n",
    "[Back to index](https://shotahorii.github.io/math-for-ds/)\n",
    "\n",
    "---\n",
    "\n",
    "## Table of contents\n",
    "1. **Integration of a 2-variable function**  \n",
    "1.1. Steps  \n",
    "1.2. Examples  \n",
    "2. **References**\n",
    "\n",
    "---\n",
    "\n",
    "## 1. Integration of a 2-variable function\n",
    "### 1.1. Steps\n",
    "\n",
    "Given $\\int_X \\int_Y f(x,y) dy dx$, where interval of integration of $y$ is expressed using $x$, and interval of integration of $x$ is expressed with only actual values, we'd like to exchange the order of integration into the form of $\\int_Y \\int_X f(x,y) dx dy$.\n",
    "\n",
    "**Step 1**  \n",
    "Calculate the range of values that $y$ can take, within the range of all possible values of $x$. (The interval of $y$ is then expressed with only actual values, without using $x$)\n",
    "\n",
    "**Step 2**  \n",
    "Then, calculate the range of values that $x$ can take using $y$, within the range of all possible values of $y$ that calculated in Step1 above. \n",
    "\n",
    "---\n",
    "\n",
    "### 1.2. Examples\n",
    "\n",
    "**Example 1**\n",
    "\n",
    "Exchange the order of integration below.\n",
    "\n",
    "$\\int^4_0\\int^{2\\sqrt{x}}_x f(x,y) dydx$\n",
    "\n",
    "Step 1: As the range of $y$ for each given $x$ is $y \\in [x,2\\sqrt{x}]$, when $x \\in [0,4]$, the possible range of values of $y$ for all possible values of $x$ is $y \\in [0,4]$\n",
    "\n",
    "Note: As this integration is calculating the area between $y=x$ and $y=2\\sqrt{x}$, we can also consider this integration as calculating the area between $x=y$ and $x=\\frac{y^2}{4}$.\n",
    "\n",
    "Step 2: When y takes $[0,4]$, the range of values of $x$ is $x \\in [\\frac{y^2}{4},y]$ for each given $y$\n",
    "\n",
    "Hence,\n",
    "\n",
    "$= \\int^4_0 \\int^y_{\\frac{y^2}{4}}f(x,y)dxdy$\n",
    "\n",
    "**Example 2**\n",
    "\n",
    "Exchange the order of integration below.\n",
    "\n",
    "$\\int^\\infty_0\\int^\\infty_x f(t) dtdx$\n",
    "\n",
    "Step 1: As the range of $t$ for each given $x$ is $t \\in [x,\\infty]$, when $x \\in [0,\\infty]$, the possible range of values of $t$ for all possible values of $x$ is $t \\in [0,\\infty]$ \n",
    "\n",
    "Step 2: When t takes $[0,\\infty]$, the range of values of $x$ is $x \\in [0,t]$ for each given $t$\n",
    "\n",
    "Note: This is easy to understand when you draw a graph where the vertical axis is $t$ and the horizontal axis is $x$.\n",
    "\n",
    "Hence, \n",
    "\n",
    "$= \\int^\\infty_0 \\int^t_0 f(t)dxdt$\n",
    "\n",
    "Note: Considering that $f(t)$ is a constant for $x$, the $F(x)$ satisfies $\\frac{dF}{dx}=f(t)$ is $F(x) = f(t)x+C$\n",
    "\n",
    "$=\\int^\\infty_0([f(t)x+C]^t_0)dt$\n",
    "\n",
    "$=\\int^\\infty_0(tf(t)+C - 0f(0)-C)dt$\n",
    "\n",
    "$=\\int^\\infty_0tf(t)dt$\n",
    "\n",
    "---"
   ]
  },
  {
   "cell_type": "markdown",
   "metadata": {},
   "source": [
    "## 2. References\n",
    "- [重積分の計算(1)](http://www.math.nagoya-u.ac.jp/~miyachi/courses/1W10_files/miyachi-1W10-11.pdf)"
   ]
  }
 ],
 "metadata": {
  "kernelspec": {
   "display_name": "Python 3",
   "language": "python",
   "name": "python3"
  },
  "language_info": {
   "codemirror_mode": {
    "name": "ipython",
    "version": 3
   },
   "file_extension": ".py",
   "mimetype": "text/x-python",
   "name": "python",
   "nbconvert_exporter": "python",
   "pygments_lexer": "ipython3",
   "version": "3.5.6"
  }
 },
 "nbformat": 4,
 "nbformat_minor": 2
}
