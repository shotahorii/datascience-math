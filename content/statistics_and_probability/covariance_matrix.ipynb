{
 "cells": [
  {
   "cell_type": "markdown",
   "metadata": {},
   "source": [
    "# Covariance Matrix\n",
    "\n",
    "[Back to index](https://shotahorii.github.io/math-for-ml/index.html)\n",
    "\n",
    "---\n",
    "\n",
    "## Table of contents\n",
    "1. Covariance\n",
    "2. Covariance Matrix\n",
    "\n",
    "---\n",
    "\n",
    "## 1. Covariance\n",
    "Given 2 random variables $X_i$ and $X_J$, the covariance $K_{X_iX_j}$ is defined as below.\n",
    "\n",
    "$cov[X_i,X_j] = E[(X_i-E[X_i])(X_j-E[X_j])]$\n",
    "\n",
    "---\n",
    "\n",
    "## 2. Covariance Matrix\n",
    "Given a random vector ${\\bf X} = (X_1,X_2,...,X_n)^T$ with $n$ random variables $X_1,X_2,...,X_n$, the covariance matrix $K_{{\\bf X}{\\bf X}}$ (or often denoted by $\\Sigma$) is defined as below.\n",
    "\n",
    "$K_{{\\bf X}{\\bf X}} = cov[{\\bf X},{\\bf X}] = E[({\\bf X}-{\\bf \\mu})({\\bf X}-{\\bf \\mu})^T]$\n",
    "\n",
    "$=E[{\\bf X}{\\bf X}^T] - E[{\\bf X}]{\\bf \\mu}^T -{\\bf \\mu}E[{\\bf X}^T] + {\\bf \\mu}{\\bf \\mu}^T$\n",
    "\n",
    "$= E[{\\bf X}{\\bf X}^T] - {\\bf \\mu}{\\bf \\mu}^T$\n",
    "\n",
    "$where \\,\\,\\, {\\bf \\mu} = E[{\\bf X}]$\n",
    "\n",
    "Also, covariance matrix can be described as below.\n",
    "\n",
    "$K_{{\\bf X}{\\bf X}}=\n",
    "\\begin{bmatrix}\n",
    "E[(X_1-E[X_1])(X_1-E[X_1])] & E[(X_1-E[X_1])(X_2-E[X_2])] & ... & E[(X_1-E[X_1])(X_n-E[X_n])] \\\\\n",
    "E[(X_2-E[X_2])(X_1-E[X_1])] & E[(X_2-E[X_2])(X_2-E[X_2])] & ... & E[(X_2-E[X_2])(X_n-E[X_n])] \\\\\n",
    " & & ... & \\\\\n",
    "E[(X_n-E[X_n])(X_1-E[X_1])] & E[(X_n-E[X_n])(X_2-E[X_2])] & ... & E[(X_n-E[X_n])(X_n-E[X_n])] \\\\\n",
    "\\end{bmatrix}$\n",
    "\n",
    "Note that this is also considered as a generalization of the scalar-valued variance to higher dimensions."
   ]
  }
 ],
 "metadata": {
  "kernelspec": {
   "display_name": "Python 3",
   "language": "python",
   "name": "python3"
  },
  "language_info": {
   "codemirror_mode": {
    "name": "ipython",
    "version": 3
   },
   "file_extension": ".py",
   "mimetype": "text/x-python",
   "name": "python",
   "nbconvert_exporter": "python",
   "pygments_lexer": "ipython3",
   "version": "3.5.6"
  }
 },
 "nbformat": 4,
 "nbformat_minor": 2
}
