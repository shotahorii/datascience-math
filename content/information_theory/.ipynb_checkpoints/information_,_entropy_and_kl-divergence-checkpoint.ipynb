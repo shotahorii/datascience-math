{
 "cells": [
  {
   "cell_type": "markdown",
   "metadata": {},
   "source": [
    "# Information, Entropy and KL-divergence\n",
    "\n",
    "[Back to index](https://shotahorii.github.io/math-for-ml/index.html)\n",
    "\n",
    "---\n",
    "\n",
    "## Table of contents\n",
    "1. **Introduction**\n",
    "2. **Self-Information**  \n",
    "2.1. Definition  \n",
    "2.2. Example  \n",
    "3. **Entropy**  \n",
    "3.1. Definition  \n",
    "3.2. Example  \n",
    "4. xxx\n",
    "\n",
    "\n",
    "\n",
    "\n",
    "---\n",
    "\n",
    "## Introduction\n",
    "\n",
    "## 2. Self-Information\n",
    "### 2.1. Definition"
   ]
  },
  {
   "cell_type": "code",
   "execution_count": null,
   "metadata": {},
   "outputs": [],
   "source": []
  }
 ],
 "metadata": {
  "kernelspec": {
   "display_name": "Python 3",
   "language": "python",
   "name": "python3"
  },
  "language_info": {
   "codemirror_mode": {
    "name": "ipython",
    "version": 3
   },
   "file_extension": ".py",
   "mimetype": "text/x-python",
   "name": "python",
   "nbconvert_exporter": "python",
   "pygments_lexer": "ipython3",
   "version": "3.5.6"
  }
 },
 "nbformat": 4,
 "nbformat_minor": 2
}
