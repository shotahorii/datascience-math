{
 "cells": [
  {
   "cell_type": "markdown",
   "metadata": {},
   "source": [
    "# Limit of a function\n",
    "\n",
    "[Back to index](https://shotahorii.github.io/math-for-ds/)\n",
    "\n",
    "---\n",
    "\n",
    "## Table of contents\n",
    "1. Intuitive definition\n",
    "2. Precise definition\n",
    "3. Some theorems\n",
    "4. Some frequently used formulas\n",
    "\n",
    "---"
   ]
  },
  {
   "cell_type": "markdown",
   "metadata": {},
   "source": [
    "## 1.Intuitive definition\n",
    "Having a function $f(x)$, when the value of $f(x)$ gets arbitrarily close to a specific value $b$ as $x$ approaches to a value $a$, $b$ is called limit of the function $f(x)$ in $x \\rightarrow a$. In other words, $f(x)$ converges to $b$ when $x$ gets arbitarily close to $a$. This is expressed as below.\n",
    "\n",
    "$\\lim\\limits_{x \\to a}f(x) = b$\n",
    "\n",
    "**Intuition** \n",
    "\n",
    "Having a function $f(x) = x^2$, when $x \\to 2$ then $f(x) \\to 4$, hence $\\lim\\limits_{x \\to 2}x^2 = 4$.  \n",
    "The statement above is NOT saying $f(2) = 4$. \n",
    "\n",
    "Think about a sequence $\\{a_n\\}$ where $\\lim\\limits_{n \\to \\infty}a_n = 2$, such as $\\{2 + (\\frac{1}{10})^n\\}$ or $\\{2 - \\frac{1}{n^2}\\}$ etc.  \n",
    "Then, $\\lim\\limits_{n \\to \\infty}f(a_n) = 4$\n",
    "\n",
    "**One-sided limit**\n",
    "\n",
    "When $x$ approaches to $a$ by decreasing (= approaching from \"right\") , expressed as below. \n",
    "\n",
    "$\\lim\\limits_{x \\to a^+}f(x) = b \\,\\,\\,$ or $\\,\\,\\, \\lim\\limits_{x \\to a+0}f(x) = b$\n",
    "\n",
    "And when $x$ approaches to $a$ by increasing (= approaching from \"left\") , expressed as below. \n",
    "\n",
    "$\\lim\\limits_{x \\to a^-}f(x) = b \\,\\,\\,$ or $\\,\\,\\, \\lim\\limits_{x \\to a-0}f(x) = b$\n",
    "\n",
    "\n",
    "**Example**\n",
    "\n",
    "Given a function $f(x) = \\frac{|x|}{x}$\n",
    "\n",
    "$\\lim\\limits_{x \\to +0} \\frac{|x|}{x} = 1$\n",
    "\n",
    "$\\lim\\limits_{x \\to -0} \\frac{|x|}{x} = -1$\n",
    "\n",
    "Note that, this function $f(x) = \\frac{|x|}{x}$ is not defined in $x=0$.  \n",
    "As seen from this example, $\\lim\\limits_{x \\to a}f(x) = b$ is not equal to $f(a)=b$.\n",
    "\n",
    "---"
   ]
  },
  {
   "cell_type": "markdown",
   "metadata": {},
   "source": [
    "## 2. Precise definition\n",
    "\n",
    "Let $f$ be a real-valued function defined on a subset $D$ of the real numbers. Let $a$ be a limit point of $D$ and let $b$ be a real number.\n",
    "\n",
    "$\\lim\\limits_{x \\to a}f(x) = b \\Longleftrightarrow \n",
    "(\\forall \\varepsilon >0,\\exists \\delta > 0 \\, s.t. \\, \\forall x \\in D, 0 < |x-a| < \\delta \\Rightarrow |f(x) - b| < \\varepsilon)$\n",
    "\n",
    "---"
   ]
  },
  {
   "cell_type": "markdown",
   "metadata": {},
   "source": [
    "## 3. Some theorems \n",
    "\n",
    "**Theorem 1**\n",
    "\n",
    "$f(x) = C \\Longrightarrow \\lim\\limits_{x \\to a}f(x) = C \\,\\,\\,$ where $C$ is a constant.\n",
    "\n",
    "**Theorem 2**  \n",
    "When $\\, \\lim\\limits_{x \\to a}f(x) = A \\,$, $\\, \\lim\\limits_{x \\to a}g(x) = B \\,\\,$ and $k$ is a constant, then below are true.\n",
    "\n",
    "(1)$\\,\\,\\, \\lim\\limits_{x \\to a}kf(x) = kA$\n",
    "\n",
    "(2)$\\,\\,\\, \\lim\\limits_{x \\to a}\\{f(x)\\pm g(x)\\} = \\lim\\limits_{x \\to a}f(x)\\pm \\lim\\limits_{x \\to a}g(x) = A\\pm B$\n",
    "\n",
    "(3)$\\,\\,\\, \\lim\\limits_{x \\to a}\\{f(x)\\cdot g(x)\\} = \\lim\\limits_{x \\to a}f(x)\\cdot \\lim\\limits_{x \\to a}g(x) = A\\cdot B$\n",
    "\n",
    "(4) $\\,\\,\\, \\lim\\limits_{x \\to a}\\frac{f(x)}{g(x)} = \\frac{\\lim\\limits_{x \\to a}f(x)}{\\lim\\limits_{x \\to a}g(x)} = \\frac{A}{B} \\,\\,\\,\\,\\, (B \\ne 0)$\n",
    "\n",
    "---"
   ]
  },
  {
   "cell_type": "markdown",
   "metadata": {},
   "source": [
    "## 4. Some frequently used formulas\n",
    "\n",
    "**Formula 1**\n",
    "\n",
    "$\\lim\\limits_{x \\to \\infty}(1+\\frac{1}{x})^x = e$\n",
    "\n",
    "**Formula 2**\n",
    "\n",
    "$\\lim\\limits_{x \\to 0}\\frac{sinx}{x} = 1$"
   ]
  }
 ],
 "metadata": {
  "kernelspec": {
   "display_name": "Python 3",
   "language": "python",
   "name": "python3"
  },
  "language_info": {
   "codemirror_mode": {
    "name": "ipython",
    "version": 3
   },
   "file_extension": ".py",
   "mimetype": "text/x-python",
   "name": "python",
   "nbconvert_exporter": "python",
   "pygments_lexer": "ipython3",
   "version": "3.5.6"
  }
 },
 "nbformat": 4,
 "nbformat_minor": 2
}
