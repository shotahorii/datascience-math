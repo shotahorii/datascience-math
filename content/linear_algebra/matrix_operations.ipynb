{
 "cells": [
  {
   "cell_type": "markdown",
   "metadata": {},
   "source": [
    "# Matrix Operations\n",
    "\n",
    "[Back to index](https://shotahorii.github.io/math-for-ds/)\n",
    "\n",
    "---\n",
    "\n",
    "## Table of contents\n",
    "1. Sum Rule\n",
    "2. Product Rule \n",
    "3. Multiplication by scalars\n",
    "4. Distribution law\n",
    "5. Transpose\n",
    "\n",
    "---\n",
    "\n",
    "Note:\n",
    "\n",
    "$O$ is a zero matrix  \n",
    "$I$ is an identity matrix  \n",
    "$k$ and $h$ are scalars"
   ]
  },
  {
   "cell_type": "markdown",
   "metadata": {},
   "source": [
    "## 1. Sum Rule\n",
    "\n",
    "Assume: Matrix $A$, $B$ and $C$ have a same shape. \n",
    "\n",
    "- $A+B = B+A$\n",
    "- $(A+B)+C = A+(B+C)$\n",
    "- $A+O=A$\n",
    "- $A+(-A)=O$\n",
    "\n",
    "---"
   ]
  },
  {
   "cell_type": "markdown",
   "metadata": {},
   "source": [
    "## 2. Product Rule\n",
    "\n",
    "Assume: Pairs of matrix $A,B$ and $B,C$ have productable shapes. \n",
    "\n",
    "- $(AB)C = A(BC)$\n",
    "- $AI = IA = A$\n",
    "- $AO=OA=O$\n",
    "\n",
    "---"
   ]
  },
  {
   "cell_type": "markdown",
   "metadata": {},
   "source": [
    "## 3. Multiplication by scalars\n",
    "\n",
    "- $(kh)A=k(hA)$\n",
    "- $k(AB)=A(kB)$\n",
    "- $0A=O$\n",
    "- $1A=A$\n",
    "\n",
    "---"
   ]
  },
  {
   "cell_type": "markdown",
   "metadata": {},
   "source": [
    "## 4. Distribution law\n",
    "\n",
    "- $A(B+C)=AB+AC$\n",
    "- $(A+B)C=AC+BC$\n",
    "- $k(A+B)=kA+kB$\n",
    "- $(k+h)A = kA+hA$"
   ]
  },
  {
   "cell_type": "markdown",
   "metadata": {},
   "source": [
    "## 5. Transpose\n",
    "\n",
    "The transpose of a matrix is an operator which flips a matrix over its diagonal, that is it switches the row and column indices of the matrix by producing another matrix denoted as $A^T$.\n",
    "\n",
    "- $(A^T)^T = A$\n",
    "- $(A+B)^T = A^T + B^T$\n",
    "- $(kA)^T = kA^T$\n",
    "- $(AB)^T = B^TA^T$\n",
    "- $(A_1A_2...A_{n-1}A_n)^T = A_n^TA_{n-1}^T...A_2^TA_1^T$\n",
    "\n",
    "Let: $A$ is a $m \\times n$ matrix, ${\\bf x}$ is a $m$-dimensional vector and ${\\bf y}$ is a $n$-dimensional vector  \n",
    "Then: $({\\bf x},A{\\bf y}) = (A^T{\\bf x},{\\bf y})$  \n",
    "This is obvious as $(A^T{\\bf x})^T{\\bf y} = {\\bf x}^T(A^T)^T{\\bf y}= {\\bf x}^TA^T{\\bf y}$\n",
    "\n",
    "Side Note: when ${\\bf u},{\\bf v}$ are same size vectors, obviously ${\\bf u}^T{\\bf v} = {\\bf v}^T{\\bf u}$"
   ]
  },
  {
   "cell_type": "code",
   "execution_count": null,
   "metadata": {},
   "outputs": [],
   "source": []
  }
 ],
 "metadata": {
  "kernelspec": {
   "display_name": "Python 3",
   "language": "python",
   "name": "python3"
  },
  "language_info": {
   "codemirror_mode": {
    "name": "ipython",
    "version": 3
   },
   "file_extension": ".py",
   "mimetype": "text/x-python",
   "name": "python",
   "nbconvert_exporter": "python",
   "pygments_lexer": "ipython3",
   "version": "3.5.6"
  }
 },
 "nbformat": 4,
 "nbformat_minor": 2
}
