{
 "cells": [
  {
   "cell_type": "markdown",
   "metadata": {},
   "source": [
    "# Eigenvalues and Eigenvectors\n",
    "\n",
    "[Back to index](https://shotahorii.github.io/math-for-ds/)\n",
    "\n",
    "---\n",
    "\n",
    "## Table of contents\n",
    "1. Definition and some properties \n",
    "\n",
    "---"
   ]
  },
  {
   "cell_type": "markdown",
   "metadata": {},
   "source": [
    "## Definition and some properties\n",
    "\n",
    "### Definition\n",
    "\n",
    "For a $d \\times d$ matrix $A$, nonzero vectors ${\\bf u}$ wihch satisfy below equality are called $A$'s **eigenvectors**, and such $\\lambda$ are called $A$'s **eigenvalues**.\n",
    "\n",
    "$A{\\bf u} = \\lambda {\\bf u}$\n",
    "\n",
    "### Properties\n",
    "\n",
    "When $A$ is a $d \\times d$ symmetric matrix, $A$ has $d$ eigenvalues $\\{\\lambda_1,\\lambda_2,...,\\lambda_d\\}$ and all those are real numbers. "
   ]
  },
  {
   "cell_type": "code",
   "execution_count": null,
   "metadata": {},
   "outputs": [],
   "source": []
  }
 ],
 "metadata": {
  "kernelspec": {
   "display_name": "Python 3",
   "language": "python",
   "name": "python3"
  },
  "language_info": {
   "codemirror_mode": {
    "name": "ipython",
    "version": 3
   },
   "file_extension": ".py",
   "mimetype": "text/x-python",
   "name": "python",
   "nbconvert_exporter": "python",
   "pygments_lexer": "ipython3",
   "version": "3.5.6"
  }
 },
 "nbformat": 4,
 "nbformat_minor": 2
}
