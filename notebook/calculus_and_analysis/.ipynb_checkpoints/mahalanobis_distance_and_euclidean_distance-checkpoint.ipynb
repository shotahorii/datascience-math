{
 "cells": [
  {
   "cell_type": "markdown",
   "metadata": {},
   "source": [
    "# Mahalanobis' Distance and Euclidean Distance\n",
    "\n",
    "[Back to index](https://shotahorii.github.io/math-for-ds/)\n",
    "\n",
    "---\n",
    "\n",
    "## Table of contents\n",
    "1. Euclidean Distance\n",
    "2. Mahalanobis' Distance\n",
    "3. What's the difference?\n",
    "---"
   ]
  },
  {
   "cell_type": "markdown",
   "metadata": {},
   "source": [
    "## 1. Euclidean Distance\n",
    "\n",
    "Let: $d$-dimentional vectors ${\\bf x} = (x_1,x_2,...,x_d)^T$, ${\\bf y} = (y_1,y_2,...,y_d)^T$\n",
    "\n",
    "$d_{euclidean}({\\bf x},{\\bf y}) = \\sqrt{({\\bf x}-{\\bf y})^T({\\bf x}-{\\bf y})}$\n",
    "\n",
    "**Example**\n",
    "\n",
    "Consider that you have a data set $D$ of $d$-dimentional data points, with its mean ${\\bf \\mu} = (\\mu_1,\\mu_2,...,\\mu_d)^T$ and its covariance matrix $\\Sigma$. Picking a data point ${\\bf x} = (x_1,x_2,...,x_d)^T$ and its distance from the mean of the data set in Euclidean distance is below.\n",
    "\n",
    "$d_{euclidean}({\\bf x},{\\bf \\mu}) = \\sqrt{({\\bf x}-{\\bf \\mu})^T({\\bf x}-{\\bf \\mu})}$\n",
    "\n",
    "---"
   ]
  },
  {
   "cell_type": "markdown",
   "metadata": {},
   "source": [
    "## 2. Mahalanobis' Distance\n",
    "\n",
    "Mahalanobis' Distance is a distance metric that represents how distant is a data point if from the data mean, considering the data's variance/covariance. \n",
    "\n",
    "\n",
    "Let: $d$-dimentional data set $D$ with its mean ${\\bf \\mu} = (\\mu_1,\\mu_2,...,\\mu_d)^T$ and its covariance matrix $\\Sigma$. And one of the data points ${\\bf x} = (x_1,x_2,...,x_d)^T$.\n",
    "\n",
    "$d_{mahalanobis}({\\bf x}) = \\sqrt{({\\bf x}-{\\bf y})^T\\Sigma^{-1}({\\bf x}-{\\bf y})}$\n",
    "\n",
    "---"
   ]
  },
  {
   "cell_type": "markdown",
   "metadata": {},
   "source": [
    "## 3. What's the difference?\n",
    "\n",
    "As seen in the below picture, Mahalanobis' distance is depending on the data set. The data point $A$ and $B$ in the picture are same distance from the data centre $O$ in Euclidean distance. However, the data point $B$ is more far from the centre than $A$ in Mahalanobis' distance. \n",
    "\n",
    "![image](mahalanobis_distance_and_euclidean_distance.jpg)"
   ]
  }
 ],
 "metadata": {
  "kernelspec": {
   "display_name": "Python 3",
   "language": "python",
   "name": "python3"
  },
  "language_info": {
   "codemirror_mode": {
    "name": "ipython",
    "version": 3
   },
   "file_extension": ".py",
   "mimetype": "text/x-python",
   "name": "python",
   "nbconvert_exporter": "python",
   "pygments_lexer": "ipython3",
   "version": "3.5.6"
  }
 },
 "nbformat": 4,
 "nbformat_minor": 2
}
