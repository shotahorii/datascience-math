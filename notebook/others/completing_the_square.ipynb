{
 "cells": [
  {
   "cell_type": "markdown",
   "metadata": {},
   "source": [
    "# Completing the square\n",
    "\n",
    "[Back to index](https://shotahorii.github.io/math-for-ds/)\n",
    "\n",
    "---\n",
    "\n",
    "## Table of contents\n",
    "1. Definition\n",
    "2. Quadratic formula\n",
    "3. Variation\n",
    "\n",
    "---\n",
    "\n",
    "## 1. Definition \n",
    "To convert a quadratic polynomial of the form $ax^2+bx+c$ to the form $a(x-h)^2+k$ for some values of $h$ and $k$.\n",
    "\n",
    "\n",
    "$ax^2+bx+c = a(x+\\frac{b}{2a})^2+c-\\frac{b^2}{4a}  \\,\\,\\,\\,\\,\\,\\,\\,\\, (a \\ne 0)$\n",
    "\n",
    "---\n",
    "\n",
    "## 2. Quadratic formula\n",
    "\n",
    "$ax^2+bx+c = 0 \\,\\,\\,\\,\\, (a \\ne 0)$\n",
    "\n",
    "$\\Longrightarrow a(x+\\frac{b}{2a})^2+c-\\frac{b^2}{4a} = 0$\n",
    "\n",
    "$\\Longrightarrow a(x+\\frac{b}{2a})^2 = \\frac{b^2 - 4ac}{4a}$\n",
    "\n",
    "$\\Longrightarrow x+\\frac{b}{2a} = \\pm \\frac{\\sqrt{b^2 - 4ac}}{2a}$\n",
    "\n",
    "$\\Longrightarrow x = \\frac{-b \\pm\\sqrt{b^2 - 4ac}}{2a}$\n",
    "\n",
    "Here, $D=b^2 - 4ac$ is called as the discriminant of the quadratic polynomial.\n",
    "\n",
    "---\n",
    "\n",
    "## 3. Variation\n",
    "\n",
    "$a(x-A)^2+b(x-B)^2 = (a+b)(x-C)^2 + \\frac{ab}{a+b}(A-B)^2 \\,\\,\\,\\,\\,\\,\\,\\,\\, (a \\ne 0, b \\ne 0)$\n",
    "\n",
    "$where \\,\\,\\, C = \\frac{aA+bB}{a+b}$\n",
    "\n",
    "#### Example\n",
    "Completing the square of $t$ below.\n",
    "\n",
    "$\\frac{(x-t)^2}{2v^2}+\\frac{(t-m)^2}{2w^2}$\n",
    "\n",
    "$=\\frac{(t-x)^2}{2v^2}+\\frac{(t-m)^2}{2w^2}$\n",
    "\n",
    "$= (\\frac{1}{2v^2}+\\frac{1}{2w^2})(t-\\frac{\\frac{x}{2v^2}+\\frac{m}{2w^2}}{\\frac{1}{2v^2}+\\frac{1}{2w^2}})^2\n",
    "+\\frac{\\frac{1}{4v^2w^2}}{\\frac{1}{2v^2}+\\frac{1}{2w^2}}(x-m)^2$\n",
    "\n",
    "$=\\frac{v^2+w^2}{2v^2w^2}(t - \\frac{xw^2+mv^2}{v^2+w^2})^2 + \\frac{(x-m)^2}{2(v^2+w^2)}$"
   ]
  }
 ],
 "metadata": {
  "kernelspec": {
   "display_name": "Python 3",
   "language": "python",
   "name": "python3"
  },
  "language_info": {
   "codemirror_mode": {
    "name": "ipython",
    "version": 3
   },
   "file_extension": ".py",
   "mimetype": "text/x-python",
   "name": "python",
   "nbconvert_exporter": "python",
   "pygments_lexer": "ipython3",
   "version": "3.5.6"
  }
 },
 "nbformat": 4,
 "nbformat_minor": 2
}
